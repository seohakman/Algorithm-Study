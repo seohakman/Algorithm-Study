{
  "nbformat": 4,
  "nbformat_minor": 0,
  "metadata": {
    "colab": {
      "name": "2022_0116개인연습.ipynb",
      "provenance": [],
      "collapsed_sections": []
    },
    "kernelspec": {
      "name": "python3",
      "display_name": "Python 3"
    },
    "language_info": {
      "name": "python"
    }
  },
  "cells": [
    {
      "cell_type": "code",
      "execution_count": 9,
      "metadata": {
        "colab": {
          "base_uri": "https://localhost:8080/"
        },
        "id": "WWj9HZpbGb4r",
        "outputId": "55fff2ae-2a2c-4ef3-91e8-a7991ddf32d9"
      },
      "outputs": [
        {
          "output_type": "stream",
          "name": "stdout",
          "text": [
            "1\n",
            "11 \n",
            "+\n",
            "+\n",
            "+\n",
            "+\n",
            "+\n",
            "+\n",
            "+\n",
            "+\n",
            "+\n",
            "+\n",
            "+\n",
            "-\n"
          ]
        }
      ],
      "source": [
        "# 1874 스택 수열\n",
        "\n",
        "N =int(input())\n",
        "cnt = 1\n",
        "stack = []\n",
        "R = []\n",
        "S = True\n",
        "for i in range(N):\n",
        "    q = int(input())\n",
        "    while cnt <= q:\n",
        "        stack.append(cnt)\n",
        "        R.append('+')\n",
        "        cnt += 1\n",
        "    if stack[-1] == q:\n",
        "        stack.pop()\n",
        "        R.append('-')\n",
        "    else:\n",
        "        S = False\n",
        "if S == False:\n",
        "    print('NO')\n",
        "else:\n",
        "    for i in R:\n",
        "        print(i)\n"
      ]
    },
    {
      "cell_type": "code",
      "source": [
        ""
      ],
      "metadata": {
        "id": "9hIXSoaqgO-K"
      },
      "execution_count": null,
      "outputs": []
    }
  ]
}