{
  "nbformat": 4,
  "nbformat_minor": 0,
  "metadata": {
    "colab": {
      "name": "2022_0122개인연습.ipynb",
      "provenance": [],
      "collapsed_sections": []
    },
    "kernelspec": {
      "name": "python3",
      "display_name": "Python 3"
    },
    "language_info": {
      "name": "python"
    }
  },
  "cells": [
    {
      "cell_type": "code",
      "execution_count": 1,
      "metadata": {
        "colab": {
          "base_uri": "https://localhost:8080/"
        },
        "id": "hL5L6tHjQvzN",
        "outputId": "8926b0ce-9107-4c6f-9cbe-061d2be1353c"
      },
      "outputs": [
        {
          "output_type": "stream",
          "name": "stdout",
          "text": [
            "5\n",
            "4 1 5 2 3\n",
            "5\n",
            "1 3 7 9 5\n",
            "1\n",
            "1\n",
            "0\n",
            "0\n",
            "1\n"
          ]
        }
      ],
      "source": [
        "# 1920 수 찾기 \n",
        "N = int(input())\n",
        "num = list(map(int, input().split()))\n",
        "M = int(input())\n",
        "mum = list(map(int, input().split()))\n",
        "\n",
        "for i in mum:\n",
        "  if i in num:\n",
        "    print(1)\n",
        "  else:\n",
        "    print(0)"
      ]
    },
    {
      "cell_type": "code",
      "source": [
        ""
      ],
      "metadata": {
        "id": "JnoN6HxeTQhC"
      },
      "execution_count": null,
      "outputs": []
    }
  ]
}