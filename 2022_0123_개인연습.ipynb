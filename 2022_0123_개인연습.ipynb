{
  "nbformat": 4,
  "nbformat_minor": 0,
  "metadata": {
    "colab": {
      "name": "2022_0123 개인연습.ipynb",
      "provenance": []
    },
    "kernelspec": {
      "name": "python3",
      "display_name": "Python 3"
    },
    "language_info": {
      "name": "python"
    }
  },
  "cells": [
    {
      "cell_type": "code",
      "execution_count": 5,
      "metadata": {
        "colab": {
          "base_uri": "https://localhost:8080/"
        },
        "id": "TxPTalYE77c1",
        "outputId": "51674f84-d9df-4bff-e9e1-f7e2982c8b94"
      },
      "outputs": [
        {
          "output_type": "stream",
          "name": "stdout",
          "text": [
            "1\n",
            "4 1\n",
            "2 1 3 1\n",
            "2\n"
          ]
        }
      ],
      "source": [
        "#1966 프린터 큐\n",
        "# 못품\n",
        "T = int(input())\n",
        "\n",
        "for i in range(T):\n",
        "  N, M = map(int, input().split())\n",
        "  arr = list(map(int, input().split()))\n",
        "\n",
        "  R = 1\n",
        "  bools = False\n",
        "\n",
        "  for i in range(M+1,N):\n",
        "    if arr[i] > arr[M]:\n",
        "      R += 1\n",
        "    elif arr[i] == arr[M]:\n",
        "      bools = True\n",
        "      R += 1\n",
        "\n",
        "  if bools:\n",
        "    print(R -1)\n",
        "  else:\n",
        "    print(R)\n"
      ]
    },
    {
      "cell_type": "code",
      "source": [
        "#1966 프린터 큐\n",
        "# 못품\n",
        "T = int(input())\n",
        "\n",
        "for i in range(T):\n",
        "  N, M = map(int, input().split())\n",
        "  arr = list(map(int, input().split()))\n",
        "\n",
        "  R = 1\n",
        "  bools = False\n",
        "\n",
        "  if len(list(set(arr))) == 1:\n",
        "    print(M + 1)\n",
        "  \n",
        "  else:\n",
        "    for i in range(N):\n",
        "      if arr[i] > arr[M]:\n",
        "        R += 1\n",
        "\n",
        "    for i in range(M+1,N):\n",
        "      if arr[i] == arr[M]:\n",
        "        bools = True\n",
        "        R += 1\n",
        "\n",
        "    if bools:\n",
        "      print(R -1)\n",
        "    else:\n",
        "      print(R)\n"
      ],
      "metadata": {
        "colab": {
          "base_uri": "https://localhost:8080/"
        },
        "id": "asf7W2nw-7iM",
        "outputId": "6321d2b2-77fb-4a96-87cd-bfa681c50d1f"
      },
      "execution_count": 12,
      "outputs": [
        {
          "output_type": "stream",
          "name": "stdout",
          "text": [
            "2\n",
            "1 0\n",
            "1\n",
            "1\n",
            "2 1\n",
            "2 1\n",
            "2\n"
          ]
        }
      ]
    },
    {
      "cell_type": "code",
      "source": [
        "#1966 프린터 큐\n",
        "\n",
        "T = int(input())\n",
        "\n",
        "for i in range(T):\n",
        "  N, M = map(int, input().split())\n",
        "  arr = list(map(int, input().split()))\n",
        "\n",
        "  "
      ],
      "metadata": {
        "id": "2lrkVCWPEhZN"
      },
      "execution_count": null,
      "outputs": []
    },
    {
      "cell_type": "code",
      "source": [
        "# 1978 소수 찾기\n",
        "\n",
        "N = int(input())\n",
        "arr = list(map(int, input().split()))\n",
        "prime = [i for i in range(2,1001)]\n",
        "\n",
        "for i in range(2,round(1000**(1/2))):\n",
        "  for j in range(2,1000//i+1):\n",
        "    if i*j in prime:\n",
        "      prime.remove(i*j)\n",
        "R = 0\n",
        "for i in arr:\n",
        "  if i in prime:\n",
        "    R += 1\n",
        "\n",
        "print(R)\n",
        "\n"
      ],
      "metadata": {
        "colab": {
          "base_uri": "https://localhost:8080/"
        },
        "id": "KsoSQLx4KR7K",
        "outputId": "78e41f77-46b3-47c9-86b9-335eb260192c"
      },
      "execution_count": 26,
      "outputs": [
        {
          "output_type": "stream",
          "name": "stdout",
          "text": [
            "4\n",
            "63 19 62 20\n",
            "1\n"
          ]
        }
      ]
    },
    {
      "cell_type": "code",
      "source": [
        ""
      ],
      "metadata": {
        "id": "fWlTMMWGNfao"
      },
      "execution_count": 26,
      "outputs": []
    },
    {
      "cell_type": "code",
      "source": [
        ""
      ],
      "metadata": {
        "id": "uz9NkxhPNxA4"
      },
      "execution_count": null,
      "outputs": []
    }
  ]
}